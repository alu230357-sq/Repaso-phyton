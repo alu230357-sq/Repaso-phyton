{
  "nbformat": 4,
  "nbformat_minor": 0,
  "metadata": {
    "colab": {
      "provenance": [],
      "authorship_tag": "ABX9TyP1kPpd7q7ai+8TDtUt7msl",
      "include_colab_link": true
    },
    "kernelspec": {
      "name": "python3",
      "display_name": "Python 3"
    },
    "language_info": {
      "name": "python"
    }
  },
  "cells": [
    {
      "cell_type": "markdown",
      "metadata": {
        "id": "view-in-github",
        "colab_type": "text"
      },
      "source": [
        "<a href=\"https://colab.research.google.com/github/alu230357-sq/Repaso-phyton/blob/main/3_EJERCICIOS_DE_PYTHON.ipynb\" target=\"_parent\"><img src=\"https://colab.research.google.com/assets/colab-badge.svg\" alt=\"Open In Colab\"/></a>"
      ]
    },
    {
      "cell_type": "code",
      "execution_count": null,
      "metadata": {
        "id": "J_SdEXQc5TxC"
      },
      "outputs": [],
      "source": [
        "Ejercicios a desarrollar en colab con GitHub\n",
        "1-Realizar un programa en python que te permita capturar 2 numeros enteros e imprima la suma.la resta.la multiplicacion.y la division\n",
        "\n",
        "2-Realizar un programa en python mediante el cual calcules el total de caracteres que tiene un nombre capturado desde  el teclado\n",
        "\n",
        "3-Realizar un programa en python que permita los 7 dias de la semana"
      ]
    },
    {
      "cell_type": "markdown",
      "source": [
        "1-Realizar un programa que capture 2 numeros y realice las 4 operaciones basicas"
      ],
      "metadata": {
        "id": "nXiCpfuA6mlv"
      }
    },
    {
      "cell_type": "markdown",
      "source": [],
      "metadata": {
        "id": "bYHIrZTM6g5A"
      }
    },
    {
      "cell_type": "code",
      "source": [
        "n1 = int (input(\"Captura el primer numero \"))\n",
        "n2 = int (input(\"Capture el segundo numero \"))\n",
        "print (\"Suma \" , n1 + n2)\n",
        "print (\"Resta \", n1 - n2)\n",
        "print (\"Multiplicacion \" , n1 * n2)\n",
        "print (\"Division \" , n1 / n2)\n"
      ],
      "metadata": {
        "colab": {
          "base_uri": "https://localhost:8080/"
        },
        "id": "ci-N4SM66oe3",
        "outputId": "2a5fb981-ab1d-4de1-b559-63e2ab38637c"
      },
      "execution_count": 3,
      "outputs": [
        {
          "output_type": "stream",
          "name": "stdout",
          "text": [
            "Captura el primer numero 10\n",
            "Capture el segundo numero 2\n",
            "Suma  12\n",
            "Resta  8\n",
            "Multiplicacion  20\n",
            "Division  5.0\n"
          ]
        }
      ]
    },
    {
      "cell_type": "markdown",
      "source": [
        "2-Realizar un programa mediante el cual calcules el numero de caracteres que tiene un nombre capturado"
      ],
      "metadata": {
        "id": "rdrBQAA_82Tr"
      }
    },
    {
      "cell_type": "code",
      "source": [
        "nombre = input(\"Ingresa tu nombre: \")\n",
        "total_caracteres = len(nombre)\n",
        "print(f\"El nombre ingresado tiene \" , (total_caracteres) ,\" caracteres.\")"
      ],
      "metadata": {
        "colab": {
          "base_uri": "https://localhost:8080/"
        },
        "id": "eee2B5Zu9KQi",
        "outputId": "6195a4a4-c70b-440b-e32c-8f3aad205e8f"
      },
      "execution_count": 6,
      "outputs": [
        {
          "output_type": "stream",
          "name": "stdout",
          "text": [
            "Ingresa tu nombre: annnn\n",
            "El nombre ingresado tiene  5  caracteres.\n"
          ]
        }
      ]
    },
    {
      "cell_type": "markdown",
      "source": [
        "3- Realiza un programa que permita los 7 dias"
      ],
      "metadata": {
        "id": "_1v0kB5Y-eR4"
      }
    },
    {
      "cell_type": "code",
      "source": [
        "dias_semana = [\n",
        "    \"Lunes\",\n",
        "    \"Martes\",\n",
        "    \"Miércoles\",\n",
        "    \"Jueves\",\n",
        "    \"Viernes\",\n",
        "    \"Sábado\",\n",
        "    \"Domingo\"\n",
        "]\n",
        "\n",
        "print(\"Los 7 días de la semana son:\")\n",
        "for dia in dias_semana:\n",
        "    print(dia)"
      ],
      "metadata": {
        "colab": {
          "base_uri": "https://localhost:8080/"
        },
        "id": "TgLWtJjiABAd",
        "outputId": "1fb9a1fb-8f35-40c5-ff1f-2bd879e727b1"
      },
      "execution_count": 15,
      "outputs": [
        {
          "output_type": "stream",
          "name": "stdout",
          "text": [
            "Los 7 días de la semana son:\n",
            "Lunes\n",
            "Martes\n",
            "Miércoles\n",
            "Jueves\n",
            "Viernes\n",
            "Sábado\n",
            "Domingo\n"
          ]
        }
      ]
    }
  ]
}