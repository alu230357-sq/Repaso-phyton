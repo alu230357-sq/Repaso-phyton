{
  "nbformat": 4,
  "nbformat_minor": 0,
  "metadata": {
    "colab": {
      "provenance": [],
      "authorship_tag": "ABX9TyM3YczqQNtnVi+05YgN4U1P",
      "include_colab_link": true
    },
    "kernelspec": {
      "name": "python3",
      "display_name": "Python 3"
    },
    "language_info": {
      "name": "python"
    }
  },
  "cells": [
    {
      "cell_type": "markdown",
      "metadata": {
        "id": "view-in-github",
        "colab_type": "text"
      },
      "source": [
        "<a href=\"https://colab.research.google.com/github/alu230357-sq/Repaso-phyton/blob/main/Yuri_AJ.ipynb\" target=\"_parent\"><img src=\"https://colab.research.google.com/assets/colab-badge.svg\" alt=\"Open In Colab\"/></a>"
      ]
    },
    {
      "cell_type": "code",
      "execution_count": null,
      "metadata": {
        "id": "E5cIawdtz650"
      },
      "outputs": [],
      "source": []
    },
    {
      "cell_type": "markdown",
      "source": [
        "Programa 1 en python para imprimir mi nombre con hola mundo"
      ],
      "metadata": {
        "id": "PnpSHySb0KtF"
      }
    },
    {
      "cell_type": "code",
      "source": [
        "print (\"Hola mundo\")\n",
        "nombre=(input(\"Captura tu nombre\"))\n",
        "print (nombre)"
      ],
      "metadata": {
        "colab": {
          "base_uri": "https://localhost:8080/"
        },
        "id": "ruprNPdD0VCh",
        "outputId": "32701e2c-b5ab-4b20-d531-b1f58fe940a9"
      },
      "execution_count": 1,
      "outputs": [
        {
          "output_type": "stream",
          "name": "stdout",
          "text": [
            "Hola mundo\n",
            "Captura tu nombreYuri\n",
            "Yuri\n"
          ]
        }
      ]
    },
    {
      "cell_type": "markdown",
      "source": [
        "Programa 2 capturar tu nombre,paterno y materno y imprimirlo en pantallla"
      ],
      "metadata": {
        "id": "G5LBqfG81Y8D"
      }
    },
    {
      "cell_type": "code",
      "source": [
        "nombre=(input(\"Ingresa tu nombre \"))\n",
        "print (nombre)\n",
        "paterno=(input(\"Ingresa tu apellido paterno \"))\n",
        "print (paterno)\n",
        "materno=(input(\"Ingresa tu apellido materno \"))\n",
        "print (materno)\n",
        "print (nombre+paterno+materno)"
      ],
      "metadata": {
        "colab": {
          "base_uri": "https://localhost:8080/"
        },
        "id": "_ilvDBPV1klr",
        "outputId": "de2937a8-d21e-43b2-9258-329a743499b5"
      },
      "execution_count": 3,
      "outputs": [
        {
          "output_type": "stream",
          "name": "stdout",
          "text": [
            "Ingresa tu nombre Yuri\n",
            "Yuri\n",
            "Ingresa tu apellido paterno Alvarez\n",
            "Alvarez\n",
            "Ingresa tu apellido materno Juarez\n",
            "Juarez\n",
            "YuriAlvarezJuarez\n"
          ]
        }
      ]
    },
    {
      "cell_type": "code",
      "source": [],
      "metadata": {
        "id": "X4n9EV9K1FYa"
      },
      "execution_count": null,
      "outputs": []
    }
  ]
}